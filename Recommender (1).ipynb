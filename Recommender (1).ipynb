{
 "cells": [
  {
   "cell_type": "code",
   "execution_count": 6,
   "id": "95c1fc5b",
   "metadata": {},
   "outputs": [],
   "source": [
    "import random\n"
   ]
  },
  {
   "cell_type": "code",
   "execution_count": 7,
   "id": "54076b81",
   "metadata": {},
   "outputs": [
    {
     "name": "stderr",
     "output_type": "stream",
     "text": [
      "Enabling notebook extension jupyter-js-widgets/extension...\n",
      "      - Validating: ok\n",
      "Enabling: voila\n",
      "- Writing config: C:\\Users\\Dell\\anaconda3\\etc\\jupyter\n",
      "    - Validating...\n",
      "      voila 0.4.0 ok\n"
     ]
    }
   ],
   "source": [
    "!jupyter nbextension enable --py widgetsnbextension --sys-prefix\n",
    "!jupyter serverextension enable voila --sys-prefix"
   ]
  },
  {
   "cell_type": "code",
   "execution_count": 10,
   "id": "88968e54",
   "metadata": {
    "scrolled": true
   },
   "outputs": [
    {
     "name": "stdout",
     "output_type": "stream",
     "text": [
      "Enter your age\n",
      "10\n",
      "Enter your gender:\n",
      "1.Male\n",
      "2.Female\n",
      "2\n",
      "Enter your fitness level:\n",
      "1.Beginner\n",
      "2.Intermediate\n",
      "3.Advanced\n",
      "2\n",
      "Based on your data, your exercise goal is to lose weight.\n",
      "Here is your personalized workout plan:\n",
      "1. downward dog\n",
      "2. half moon\n",
      "3. child pose\n",
      "4. moon salutation\n",
      "5. Run 10 miles\n"
     ]
    }
   ],
   "source": [
    "\n",
    "# User data\n",
    "age = int(input(\"Enter your age\\n\"))\n",
    "# age = 10\n",
    "\n",
    "gender = int(input(\"Enter your gender:\\n1.Male\\n2.Female\\n\"))\n",
    "# gender = \"female\"\n",
    "\n",
    "fitness_level=int(input(\"Enter your fitness level:\\n1.Beginner\\n2.Intermediate\\n3.Advanced\\n\"))\n",
    "\n",
    "exercise_preferences = ['yoga', 'running']\n",
    "\n",
    "\n",
    "# Determine exercise goal based on user data\n",
    "if fitness_level == 1:\n",
    "    if age < 35:\n",
    "        goal = 'build strength'\n",
    "    else:\n",
    "        goal = 'improve flexibility'\n",
    "else:\n",
    "    if age < 35:\n",
    "        goal = 'lose weight'\n",
    "    else:\n",
    "        goal = 'build endurance'\n",
    "\n",
    "# Create a personalized workout plan based on exercise preferences and goal\n",
    "workout_plan = []\n",
    "for preference in exercise_preferences:\n",
    "    if preference == 'yoga':\n",
    "        poses = ['downward dog', 'tree pose', 'warrior II', 'child pose','cobra pose','sun salutation','moon salutation','child pose','forward bend','child pose','chair pose','mountain pose','bridge pose','plank','half moon']\n",
    "        workout_plan.extend(random.sample(poses, 4))\n",
    "    elif preference == 'running':\n",
    "        distances = [2, 3, 5, 10]\n",
    "        workout_plan.append(f'Run {random.choice(distances)} miles')\n",
    "    else:\n",
    "        workout_plan.append('Unknown exercise preference')\n",
    "\n",
    "# Provide feedback on workout plan\n",
    "print(f'Based on your data, your exercise goal is to {goal}.')\n",
    "print('Here is your personalized workout plan:')\n",
    "for i, exercise in enumerate(workout_plan):\n",
    "    print(f'{i+1}. {exercise}')\n"
   ]
  },
  {
   "cell_type": "code",
   "execution_count": null,
   "id": "3c3df871",
   "metadata": {},
   "outputs": [],
   "source": []
  }
 ],
 "metadata": {
  "kernelspec": {
   "display_name": "Python 3 (ipykernel)",
   "language": "python",
   "name": "python3"
  },
  "language_info": {
   "codemirror_mode": {
    "name": "ipython",
    "version": 3
   },
   "file_extension": ".py",
   "mimetype": "text/x-python",
   "name": "python",
   "nbconvert_exporter": "python",
   "pygments_lexer": "ipython3",
   "version": "3.8.8"
  }
 },
 "nbformat": 4,
 "nbformat_minor": 5
}
